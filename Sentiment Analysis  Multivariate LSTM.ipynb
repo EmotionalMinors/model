{
 "cells": [
  {
   "cell_type": "code",
   "execution_count": 1,
   "metadata": {},
   "outputs": [],
   "source": [
    "%matplotlib inline"
   ]
  },
  {
   "cell_type": "code",
   "execution_count": 2,
   "metadata": {},
   "outputs": [
    {
     "name": "stderr",
     "output_type": "stream",
     "text": [
      "Using TensorFlow backend.\n"
     ]
    }
   ],
   "source": [
    "from math import sqrt\n",
    "import pandas as pd\n",
    "import numpy as np\n",
    "import matplotlib.pyplot as plt\n",
    "import string\n",
    "from nltk.tokenize import word_tokenize\n",
    "from nltk.corpus import stopwords\n",
    "from sklearn.feature_extraction.text import TfidfVectorizer\n",
    "from sklearn.feature_selection import chi2\n",
    "from sklearn.feature_extraction.text import CountVectorizer\n",
    "from sklearn.model_selection import train_test_split\n",
    "from keras.preprocessing.text import Tokenizer\n",
    "from keras.preprocessing.sequence import pad_sequences\n",
    "from keras.models import Sequential\n",
    "from keras.layers import Dense, Embedding, LSTM\n",
    "from sklearn.model_selection import train_test_split\n",
    "from keras.utils.np_utils import to_categorical\n",
    "import re\n",
    "\n",
    "stop_words = set(stopwords.words('english'))"
   ]
  },
  {
   "cell_type": "code",
   "execution_count": 3,
   "metadata": {},
   "outputs": [
    {
     "data": {
      "text/html": [
       "<div>\n",
       "<style scoped>\n",
       "    .dataframe tbody tr th:only-of-type {\n",
       "        vertical-align: middle;\n",
       "    }\n",
       "\n",
       "    .dataframe tbody tr th {\n",
       "        vertical-align: top;\n",
       "    }\n",
       "\n",
       "    .dataframe thead th {\n",
       "        text-align: right;\n",
       "    }\n",
       "</style>\n",
       "<table border=\"1\" class=\"dataframe\">\n",
       "  <thead>\n",
       "    <tr style=\"text-align: right;\">\n",
       "      <th></th>\n",
       "      <th>MaxTrait</th>\n",
       "      <th>text</th>\n",
       "      <th>sentiment</th>\n",
       "    </tr>\n",
       "  </thead>\n",
       "  <tbody>\n",
       "    <tr>\n",
       "      <th>0</th>\n",
       "      <td>Cat</td>\n",
       "      <td>GOOD LOOKING KICKS IF YOUR KICKIN IT OLD SCHOO...</td>\n",
       "      <td>1</td>\n",
       "    </tr>\n",
       "    <tr>\n",
       "      <th>1</th>\n",
       "      <td>Cat</td>\n",
       "      <td>These sunglasses are all right. They were a li...</td>\n",
       "      <td>1</td>\n",
       "    </tr>\n",
       "    <tr>\n",
       "      <th>2</th>\n",
       "      <td>Cat</td>\n",
       "      <td>I don't see the difference between these bodys...</td>\n",
       "      <td>1</td>\n",
       "    </tr>\n",
       "    <tr>\n",
       "      <th>3</th>\n",
       "      <td>Cat</td>\n",
       "      <td>Very nice basic clothing. I think the size is ...</td>\n",
       "      <td>1</td>\n",
       "    </tr>\n",
       "    <tr>\n",
       "      <th>4</th>\n",
       "      <td>Cat</td>\n",
       "      <td>I love these socks. They fit great (my 15 mont...</td>\n",
       "      <td>1</td>\n",
       "    </tr>\n",
       "  </tbody>\n",
       "</table>\n",
       "</div>"
      ],
      "text/plain": [
       "  MaxTrait                                               text  sentiment\n",
       "0      Cat  GOOD LOOKING KICKS IF YOUR KICKIN IT OLD SCHOO...          1\n",
       "1      Cat  These sunglasses are all right. They were a li...          1\n",
       "2      Cat  I don't see the difference between these bodys...          1\n",
       "3      Cat  Very nice basic clothing. I think the size is ...          1\n",
       "4      Cat  I love these socks. They fit great (my 15 mont...          1"
      ]
     },
     "execution_count": 3,
     "metadata": {},
     "output_type": "execute_result"
    }
   ],
   "source": [
    "data = pd.read_csv(\"sub.csv\")\n",
    "data.head()\n",
    "sentiment = data[\"rating\"] >3\n",
    "sentiment = sentiment.astype(int)\n",
    "#Prepare model data\n",
    "model_data = pd.DataFrame({\"MaxTrait\":data[\"MaxTrait\"],\"text\": data[\"text\"], \"sentiment\":sentiment})\n",
    "model_data.head()"
   ]
  },
  {
   "cell_type": "code",
   "execution_count": 4,
   "metadata": {},
   "outputs": [],
   "source": [
    "def remove_pun(element):\n",
    "    import string\n",
    "    translator = str.maketrans('', '', string.punctuation)\n",
    "    return element.translate(translator)\n",
    "def remove_stopwords(element):\n",
    "    element = [word.lower() for word in element.split() if word.lower() not in stop_words]\n",
    "    return \" \".join(element)"
   ]
  },
  {
   "cell_type": "code",
   "execution_count": 5,
   "metadata": {
    "scrolled": true
   },
   "outputs": [
    {
     "data": {
      "text/html": [
       "<div>\n",
       "<style scoped>\n",
       "    .dataframe tbody tr th:only-of-type {\n",
       "        vertical-align: middle;\n",
       "    }\n",
       "\n",
       "    .dataframe tbody tr th {\n",
       "        vertical-align: top;\n",
       "    }\n",
       "\n",
       "    .dataframe thead th {\n",
       "        text-align: right;\n",
       "    }\n",
       "</style>\n",
       "<table border=\"1\" class=\"dataframe\">\n",
       "  <thead>\n",
       "    <tr style=\"text-align: right;\">\n",
       "      <th></th>\n",
       "      <th>MaxTrait</th>\n",
       "      <th>text</th>\n",
       "      <th>sentiment</th>\n",
       "    </tr>\n",
       "  </thead>\n",
       "  <tbody>\n",
       "    <tr>\n",
       "      <th>0</th>\n",
       "      <td>Cat</td>\n",
       "      <td>good looking kicks kickin old school like comf...</td>\n",
       "      <td>1</td>\n",
       "    </tr>\n",
       "    <tr>\n",
       "      <th>1</th>\n",
       "      <td>Cat</td>\n",
       "      <td>sunglasses right little crooked still cool</td>\n",
       "      <td>1</td>\n",
       "    </tr>\n",
       "    <tr>\n",
       "      <th>2</th>\n",
       "      <td>Cat</td>\n",
       "      <td>dont see difference bodysuits expensive ones f...</td>\n",
       "      <td>1</td>\n",
       "    </tr>\n",
       "    <tr>\n",
       "      <th>3</th>\n",
       "      <td>Cat</td>\n",
       "      <td>nice basic clothing think size fine really lik...</td>\n",
       "      <td>1</td>\n",
       "    </tr>\n",
       "    <tr>\n",
       "      <th>4</th>\n",
       "      <td>Cat</td>\n",
       "      <td>love socks fit great 15 month old daughter thi...</td>\n",
       "      <td>1</td>\n",
       "    </tr>\n",
       "  </tbody>\n",
       "</table>\n",
       "</div>"
      ],
      "text/plain": [
       "  MaxTrait                                               text  sentiment\n",
       "0      Cat  good looking kicks kickin old school like comf...          1\n",
       "1      Cat         sunglasses right little crooked still cool          1\n",
       "2      Cat  dont see difference bodysuits expensive ones f...          1\n",
       "3      Cat  nice basic clothing think size fine really lik...          1\n",
       "4      Cat  love socks fit great 15 month old daughter thi...          1"
      ]
     },
     "execution_count": 5,
     "metadata": {},
     "output_type": "execute_result"
    }
   ],
   "source": [
    "model_data[\"text\"] = model_data[\"text\"].apply(remove_pun)\n",
    "model_data[\"text\"] = model_data[\"text\"].apply(remove_stopwords)\n",
    "model_data.head()"
   ]
  },
  {
   "cell_type": "code",
   "execution_count": 6,
   "metadata": {},
   "outputs": [
    {
     "data": {
      "text/html": [
       "<div>\n",
       "<style scoped>\n",
       "    .dataframe tbody tr th:only-of-type {\n",
       "        vertical-align: middle;\n",
       "    }\n",
       "\n",
       "    .dataframe tbody tr th {\n",
       "        vertical-align: top;\n",
       "    }\n",
       "\n",
       "    .dataframe thead th {\n",
       "        text-align: right;\n",
       "    }\n",
       "</style>\n",
       "<table border=\"1\" class=\"dataframe\">\n",
       "  <thead>\n",
       "    <tr style=\"text-align: right;\">\n",
       "      <th></th>\n",
       "      <th>MaxTrait</th>\n",
       "      <th>text</th>\n",
       "      <th>sentiment</th>\n",
       "    </tr>\n",
       "  </thead>\n",
       "  <tbody>\n",
       "    <tr>\n",
       "      <th>0</th>\n",
       "      <td>0.2</td>\n",
       "      <td>good looking kicks kickin old school like comf...</td>\n",
       "      <td>1</td>\n",
       "    </tr>\n",
       "    <tr>\n",
       "      <th>1</th>\n",
       "      <td>0.2</td>\n",
       "      <td>sunglasses right little crooked still cool</td>\n",
       "      <td>1</td>\n",
       "    </tr>\n",
       "    <tr>\n",
       "      <th>2</th>\n",
       "      <td>0.2</td>\n",
       "      <td>dont see difference bodysuits expensive ones f...</td>\n",
       "      <td>1</td>\n",
       "    </tr>\n",
       "    <tr>\n",
       "      <th>3</th>\n",
       "      <td>0.2</td>\n",
       "      <td>nice basic clothing think size fine really lik...</td>\n",
       "      <td>1</td>\n",
       "    </tr>\n",
       "    <tr>\n",
       "      <th>4</th>\n",
       "      <td>0.2</td>\n",
       "      <td>love socks fit great 15 month old daughter thi...</td>\n",
       "      <td>1</td>\n",
       "    </tr>\n",
       "  </tbody>\n",
       "</table>\n",
       "</div>"
      ],
      "text/plain": [
       "   MaxTrait                                               text  sentiment\n",
       "0       0.2  good looking kicks kickin old school like comf...          1\n",
       "1       0.2         sunglasses right little crooked still cool          1\n",
       "2       0.2  dont see difference bodysuits expensive ones f...          1\n",
       "3       0.2  nice basic clothing think size fine really lik...          1\n",
       "4       0.2  love socks fit great 15 month old daughter thi...          1"
      ]
     },
     "execution_count": 6,
     "metadata": {},
     "output_type": "execute_result"
    }
   ],
   "source": [
    "#normalize personality\n",
    "per = np.unique(model_data[\"MaxTrait\"])\n",
    "nor = [i+1 for i in range(per.shape[0])]\n",
    "nor_map = dict(zip(per, nor))\n",
    "model_data[\"MaxTrait\"] = model_data[\"MaxTrait\"].map(nor_map)\n",
    "model_data[\"MaxTrait\"] = model_data[\"MaxTrait\"]/5\n",
    "model_data.head()"
   ]
  },
  {
   "cell_type": "code",
   "execution_count": 7,
   "metadata": {
    "scrolled": false
   },
   "outputs": [
    {
     "data": {
      "image/png": "[encoded data removed]",
      "text/plain": [
       "<Figure size 1152x576 with 1 Axes>"
      ]
     },
     "metadata": {
      "needs_background": "light"
     },
     "output_type": "display_data"
    }
   ],
   "source": [
    "#feature checking\n",
    "tfidf = TfidfVectorizer(max_features = 30000, ngram_range = (1,3))\n",
    "x_tfidf = tfidf.fit_transform(model_data.text)\n",
    "y = model_data.sentiment\n",
    "chi2score = chi2(x_tfidf, y)[0]\n",
    "plt.figure(figsize=(16,8))\n",
    "scores = list(zip(tfidf.get_feature_names(), chi2score))\n",
    "chi2 = sorted(scores, key=lambda x:x[1])\n",
    "topchi2 = list(zip(*chi2[-20:]))\n",
    "x = range(len(topchi2[1]))\n",
    "labels = topchi2[0]\n",
    "plt.barh(x,topchi2[1], align='center', alpha=0.5)\n",
    "plt.plot(topchi2[1], x, '-o', markersize=5, alpha=0.8)\n",
    "plt.yticks(x, labels)\n",
    "plt.xlabel('$\\chi^2$')\n",
    "plt.show();"
   ]
  },
  {
   "cell_type": "code",
   "execution_count": 8,
   "metadata": {},
   "outputs": [],
   "source": [
    "#for element in x_tfidf:\n",
    "#    print(element)\n",
    "#tfidf result document id, token id, tfidf_score"
   ]
  },
  {
   "cell_type": "code",
   "execution_count": 21,
   "metadata": {
    "scrolled": false
   },
   "outputs": [
    {
     "name": "stdout",
     "output_type": "stream",
     "text": [
      "(64, 208) (64, 2)\n",
      "(16, 208) (16, 2)\n"
     ]
    }
   ],
   "source": [
    "#LSTM no personality\n",
    "max_len = 200\n",
    "tokenizer = Tokenizer(num_words = max_len, split = \" \")\n",
    "tokenizer.fit_on_texts(model_data[\"text\"].values)\n",
    "x = tokenizer.texts_to_sequences(model_data[\"text\"].values)\n",
    "x = pad_sequences(x)\n",
    "y = pd.get_dummies(model_data[\"sentiment\"]).values\n",
    "x_train, x_test, y_train, y_test = train_test_split(x, y,train_size = 0.8, random_state = 13)\n",
    "print(x_train.shape, y_train.shape)\n",
    "print(x_test.shape, y_test.shape) "
   ]
  },
  {
   "cell_type": "code",
   "execution_count": 22,
   "metadata": {},
   "outputs": [
    {
     "name": "stdout",
     "output_type": "stream",
     "text": [
      "_________________________________________________________________\n",
      "Layer (type)                 Output Shape              Param #   \n",
      "=================================================================\n",
      "embedding_3 (Embedding)      (None, 208, 150)          30000     \n",
      "_________________________________________________________________\n",
      "lstm_3 (LSTM)                (None, 200)               280800    \n",
      "_________________________________________________________________\n",
      "dense_3 (Dense)              (None, 2)                 402       \n",
      "=================================================================\n",
      "Total params: 311,202\n",
      "Trainable params: 311,202\n",
      "Non-trainable params: 0\n",
      "_________________________________________________________________\n",
      "None\n"
     ]
    }
   ],
   "source": [
    "#Build LSTM model\n",
    "embed_dim = 150\n",
    "lstm_out = 200\n",
    "model = Sequential()\n",
    "model.add(Embedding(max_len, embed_dim,input_length = x.shape[1]))\n",
    "model.add(LSTM(lstm_out, dropout=0.2, recurrent_dropout=0.2))\n",
    "model.add(Dense(2,activation='softmax'))\n",
    "model.compile(loss = 'categorical_crossentropy', optimizer='adam',metrics = ['accuracy'])\n",
    "print(model.summary())"
   ]
  },
  {
   "cell_type": "code",
   "execution_count": 23,
   "metadata": {},
   "outputs": [
    {
     "name": "stdout",
     "output_type": "stream",
     "text": [
      "Epoch 1/3\n",
      " - 6s - loss: 0.6908 - acc: 0.6250\n",
      "Epoch 2/3\n",
      " - 2s - loss: 0.6726 - acc: 0.8125\n",
      "Epoch 3/3\n",
      " - 2s - loss: 0.6519 - acc: 0.8125\n"
     ]
    },
    {
     "data": {
      "text/plain": [
       "<keras.callbacks.History at 0x1a731dac90>"
      ]
     },
     "execution_count": 23,
     "metadata": {},
     "output_type": "execute_result"
    }
   ],
   "source": [
    "#Train model\n",
    "batch_size = 32\n",
    "model.fit(x_train, y_train, epochs = 3, batch_size=batch_size, verbose = 2)"
   ]
  },
  {
   "cell_type": "code",
   "execution_count": 24,
   "metadata": {
    "scrolled": true
   },
   "outputs": [
    {
     "name": "stdout",
     "output_type": "stream",
     "text": [
      "score: 0.65\n",
      "acc: 0.75\n"
     ]
    }
   ],
   "source": [
    "score,acc = model.evaluate(x_test, y_test, verbose = 2, batch_size = batch_size)\n",
    "print(\"score: %.2f\" % (score))\n",
    "print(\"acc: %.2f\" % (acc))"
   ]
  },
  {
   "cell_type": "code",
   "execution_count": 25,
   "metadata": {},
   "outputs": [
    {
     "name": "stdout",
     "output_type": "stream",
     "text": [
      "1.0\n",
      "0.5555555555555556\n"
     ]
    }
   ],
   "source": [
    "#Initializing measure matrix\n",
    "pos_count, neg_count, pos_correct, neg_correct = 0, 0, 0, 0\n",
    "for x in range(len(x_test)):   \n",
    "    result = model.predict(x_test[x].reshape(1,x_test.shape[1]),batch_size=1,verbose = 2)[0]   \n",
    "    if np.argmax(result) == np.argmax(y_test[x]):\n",
    "        if np.argmax(y_test[x]) == 0:\n",
    "            neg_correct += 1\n",
    "        else:\n",
    "            pos_correct += 1       \n",
    "    if np.argmax(y_test[x]) == 0:\n",
    "        neg_count += 1\n",
    "    else:\n",
    "        pos_count += 1\n",
    "pos_acc = pos_correct/pos_count\n",
    "neg_acc = neg_correct/neg_count\n",
    "g_mean = sqrt(pos_acc*neg_acc)\n",
    "#save performance\n",
    "accuracy = np.array(acc)\n",
    "g_out = np.array(g_mean)\n",
    "pos = np.array(pos_acc)\n",
    "neg = np.array(neg_acc)"
   ]
  },
  {
   "cell_type": "code",
   "execution_count": 26,
   "metadata": {},
   "outputs": [],
   "source": [
    "#LSTM by personality\n",
    "max_len = 200\n",
    "tokenizer = Tokenizer(num_words = max_len, split = \" \")\n",
    "tokenizer.fit_on_texts(model_data[\"text\"].values)\n",
    "x = tokenizer.texts_to_sequences(model_data[\"text\"].values)\n",
    "x = pad_sequences(x)\n",
    "y = pd.get_dummies(model_data[\"sentiment\"]).values\n",
    "x = pd.DataFrame(x)\n",
    "x.insert(0, \"MaxTrait\", model_data[\"MaxTrait\"])\n",
    "x = x.to_numpy()\n",
    "x_train, x_test, y_train, y_test = train_test_split(x, y,train_size = 0.8, random_state = 13)\n",
    "#print(x_train.shape, y_train.shape)\n",
    "#print(x_test.shape, y_test.shape) "
   ]
  },
  {
   "cell_type": "code",
   "execution_count": 27,
   "metadata": {},
   "outputs": [
    {
     "name": "stdout",
     "output_type": "stream",
     "text": [
      "_________________________________________________________________\n",
      "Layer (type)                 Output Shape              Param #   \n",
      "=================================================================\n",
      "embedding_4 (Embedding)      (None, 209, 150)          30000     \n",
      "_________________________________________________________________\n",
      "lstm_4 (LSTM)                (None, 200)               280800    \n",
      "_________________________________________________________________\n",
      "dense_4 (Dense)              (None, 2)                 402       \n",
      "=================================================================\n",
      "Total params: 311,202\n",
      "Trainable params: 311,202\n",
      "Non-trainable params: 0\n",
      "_________________________________________________________________\n",
      "None\n"
     ]
    }
   ],
   "source": [
    "#Build LSTM model\n",
    "embed_dim = 150\n",
    "lstm_out = 200\n",
    "model = Sequential()\n",
    "model.add(Embedding(max_len, embed_dim,input_length = x.shape[1]))\n",
    "model.add(LSTM(lstm_out, dropout=0.2, recurrent_dropout=0.2))\n",
    "model.add(Dense(2,activation='softmax'))\n",
    "model.compile(loss = 'categorical_crossentropy', optimizer='adam',metrics = ['accuracy'])\n",
    "print(model.summary())"
   ]
  },
  {
   "cell_type": "code",
   "execution_count": 28,
   "metadata": {},
   "outputs": [
    {
     "name": "stdout",
     "output_type": "stream",
     "text": [
      "Epoch 1/3\n",
      " - 6s - loss: 0.6925 - acc: 0.4844\n",
      "Epoch 2/3\n",
      " - 2s - loss: 0.6737 - acc: 0.6719\n",
      "Epoch 3/3\n",
      " - 2s - loss: 0.6529 - acc: 0.7656\n"
     ]
    },
    {
     "data": {
      "text/plain": [
       "<keras.callbacks.History at 0x1a73a6ba50>"
      ]
     },
     "execution_count": 28,
     "metadata": {},
     "output_type": "execute_result"
    }
   ],
   "source": [
    "batch_size = 32\n",
    "model.fit(x_train, y_train, epochs = 3, batch_size=batch_size, verbose = 2)"
   ]
  },
  {
   "cell_type": "code",
   "execution_count": 29,
   "metadata": {},
   "outputs": [
    {
     "name": "stdout",
     "output_type": "stream",
     "text": [
      "score: 0.65\n",
      "acc: 0.81\n"
     ]
    }
   ],
   "source": [
    "score,acc = model.evaluate(x_test, y_test, verbose = 2, batch_size = batch_size)\n",
    "print(\"score: %.2f\" % (score))\n",
    "print(\"acc: %.2f\" % (acc))"
   ]
  },
  {
   "cell_type": "code",
   "execution_count": 30,
   "metadata": {},
   "outputs": [
    {
     "name": "stdout",
     "output_type": "stream",
     "text": [
      "1.0\n",
      "0.6666666666666666\n",
      "0.816496580927726\n"
     ]
    }
   ],
   "source": [
    "#Initializing measure matrix\n",
    "pos_count, neg_count, pos_correct, neg_correct = 0, 0, 0, 0\n",
    "for x in range(len(x_test)):\n",
    "    \n",
    "    result = model.predict(x_test[x].reshape(1,x_test.shape[1]),batch_size=1,verbose = 2)[0]\n",
    "   \n",
    "    if np.argmax(result) == np.argmax(y_test[x]):\n",
    "        if np.argmax(y_test[x]) == 0:\n",
    "            neg_correct += 1\n",
    "        else:\n",
    "            pos_correct += 1\n",
    "       \n",
    "    if np.argmax(y_test[x]) == 0:\n",
    "        neg_count += 1\n",
    "    else:\n",
    "        pos_count += 1\n",
    "pos_acc = pos_correct/pos_count\n",
    "neg_acc = neg_correct/neg_count\n",
    "g_mean = sqrt(pos_acc*neg_acc)\n",
    "accuracy = np.append(accuracy, np.array(acc))\n",
    "g_out = np.append(g_out,np.array(g_mean))\n",
    "print(pos_acc)\n",
    "print(neg_acc)\n",
    "print(g_mean)\n",
    "pos = np.append(pos,np.array(pos_acc))\n",
    "neg = np.append(neg, np.array(neg_acc))"
   ]
  },
  {
   "cell_type": "code",
   "execution_count": 31,
   "metadata": {
    "scrolled": true
   },
   "outputs": [
    {
     "name": "stdout",
     "output_type": "stream",
     "text": [
      "[0.75   0.8125]\n",
      "[0.74535599 0.81649658]\n",
      "[1. 1.]\n",
      "[0.55555556 0.66666667]\n"
     ]
    }
   ],
   "source": [
    "print(accuracy)\n",
    "print(g_out)\n",
    "print(pos)\n",
    "print(neg)"
   ]
  },
  {
   "cell_type": "code",
   "execution_count": 32,
   "metadata": {},
   "outputs": [],
   "source": [
    "output = pd.DataFrame({\"accuracy\":accuracy, \"g_mean\":g_out, \"pos\":pos, \"neg\":neg})"
   ]
  },
  {
   "cell_type": "code",
   "execution_count": 33,
   "metadata": {},
   "outputs": [],
   "source": [
    "output.to_csv(\"lstmoutput.csv\", index = False)"
   ]
  }
 ],
 "metadata": {
  "kernelspec": {
   "display_name": "Python [conda env:emo] *",
   "language": "python",
   "name": "conda-env-emo-py"
  },
  "language_info": {
   "codemirror_mode": {
    "name": "ipython",
    "version": 3
   },
   "file_extension": ".py",
   "mimetype": "text/x-python",
   "name": "python",
   "nbconvert_exporter": "python",
   "pygments_lexer": "ipython3",
   "version": "3.7.5"
  }
 },
 "nbformat": 4,
 "nbformat_minor": 2
}
