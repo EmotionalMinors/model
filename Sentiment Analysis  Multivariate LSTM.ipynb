{
 "cells": [
  {
   "cell_type": "code",
   "execution_count": 1,
   "metadata": {},
   "outputs": [],
   "source": [
    "%matplotlib inline"
   ]
  },
  {
   "cell_type": "code",
   "execution_count": 2,
   "metadata": {},
   "outputs": [
    {
     "name": "stderr",
     "output_type": "stream",
     "text": [
      "Using TensorFlow backend.\n"
     ]
    }
   ],
   "source": [
    "from math import sqrt\n",
    "import pandas as pd\n",
    "import numpy as np\n",
    "import matplotlib.pyplot as plt\n",
    "import string\n",
    "from nltk.tokenize import word_tokenize\n",
    "from nltk.corpus import stopwords\n",
    "from sklearn.feature_extraction.text import TfidfVectorizer\n",
    "from sklearn.feature_selection import chi2\n",
    "from sklearn.feature_extraction.text import CountVectorizer\n",
    "from sklearn.model_selection import train_test_split\n",
    "from keras.preprocessing.text import Tokenizer\n",
    "from keras.preprocessing.sequence import pad_sequences\n",
    "from keras.models import Sequential\n",
    "from keras.layers import Dense, Embedding, LSTM\n",
    "from sklearn.model_selection import train_test_split\n",
    "from keras.utils.np_utils import to_categorical\n",
    "import re\n",
    "\n",
    "stop_words = set(stopwords.words('english'))"
   ]
  },
  {
   "cell_type": "code",
   "execution_count": 3,
   "metadata": {
    "scrolled": true
   },
   "outputs": [
    {
     "data": {
      "text/html": [
       "<div>\n",
       "<style scoped>\n",
       "    .dataframe tbody tr th:only-of-type {\n",
       "        vertical-align: middle;\n",
       "    }\n",
       "\n",
       "    .dataframe tbody tr th {\n",
       "        vertical-align: top;\n",
       "    }\n",
       "\n",
       "    .dataframe thead th {\n",
       "        text-align: right;\n",
       "    }\n",
       "</style>\n",
       "<table border=\"1\" class=\"dataframe\">\n",
       "  <thead>\n",
       "    <tr style=\"text-align: right;\">\n",
       "      <th></th>\n",
       "      <th>MaxTrait</th>\n",
       "      <th>text</th>\n",
       "      <th>sentiment</th>\n",
       "    </tr>\n",
       "  </thead>\n",
       "  <tbody>\n",
       "    <tr>\n",
       "      <th>0</th>\n",
       "      <td>conscientiousness</td>\n",
       "      <td>GOOD LOOKING KICKS IF YOUR KICKIN IT OLD SCHOO...</td>\n",
       "      <td>1</td>\n",
       "    </tr>\n",
       "    <tr>\n",
       "      <th>1</th>\n",
       "      <td>openness</td>\n",
       "      <td>These sunglasses are all right. They were a li...</td>\n",
       "      <td>1</td>\n",
       "    </tr>\n",
       "    <tr>\n",
       "      <th>2</th>\n",
       "      <td>extraversion</td>\n",
       "      <td>I don't see the difference between these bodys...</td>\n",
       "      <td>1</td>\n",
       "    </tr>\n",
       "    <tr>\n",
       "      <th>3</th>\n",
       "      <td>extraversion</td>\n",
       "      <td>Very nice basic clothing. I think the size is ...</td>\n",
       "      <td>1</td>\n",
       "    </tr>\n",
       "    <tr>\n",
       "      <th>4</th>\n",
       "      <td>extraversion</td>\n",
       "      <td>I love these socks. They fit great (my 15 mont...</td>\n",
       "      <td>1</td>\n",
       "    </tr>\n",
       "  </tbody>\n",
       "</table>\n",
       "</div>"
      ],
      "text/plain": [
       "            MaxTrait                                               text  \\\n",
       "0  conscientiousness  GOOD LOOKING KICKS IF YOUR KICKIN IT OLD SCHOO...   \n",
       "1           openness  These sunglasses are all right. They were a li...   \n",
       "2       extraversion  I don't see the difference between these bodys...   \n",
       "3       extraversion  Very nice basic clothing. I think the size is ...   \n",
       "4       extraversion  I love these socks. They fit great (my 15 mont...   \n",
       "\n",
       "   sentiment  \n",
       "0          1  \n",
       "1          1  \n",
       "2          1  \n",
       "3          1  \n",
       "4          1  "
      ]
     },
     "execution_count": 3,
     "metadata": {},
     "output_type": "execute_result"
    }
   ],
   "source": [
    "data = pd.read_csv(\"newcleanset.csv\")\n",
    "data.head()\n",
    "sentiment = data[\"rating\"] >3\n",
    "sentiment = sentiment.astype(int)\n",
    "#Prepare model data\n",
    "model_data = pd.DataFrame({\"MaxTrait\":data[\"MaxTrait\"],\"text\": data[\"text\"], \"sentiment\":sentiment})\n",
    "model_data.head()"
   ]
  },
  {
   "cell_type": "code",
   "execution_count": 4,
   "metadata": {},
   "outputs": [],
   "source": [
    "def remove_pun(element):\n",
    "    import string\n",
    "    translator = str.maketrans('', '', string.punctuation)\n",
    "    return element.translate(translator)\n",
    "def remove_stopwords(element):\n",
    "    element = [word.lower() for word in element.split() if word.lower() not in stop_words]\n",
    "    return \" \".join(element)"
   ]
  },
  {
   "cell_type": "code",
   "execution_count": 5,
   "metadata": {
    "scrolled": true
   },
   "outputs": [],
   "source": [
    "model_data[\"text\"] = model_data[\"text\"].apply(remove_pun)\n",
    "model_data[\"text\"] = model_data[\"text\"].apply(remove_stopwords)\n",
    "model = model_data.head()"
   ]
  },
  {
   "cell_type": "code",
   "execution_count": 6,
   "metadata": {
    "scrolled": false
   },
   "outputs": [],
   "source": [
    "#normalize personality\n",
    "per = np.unique(model_data[\"MaxTrait\"])\n",
    "nor = [i+1 for i in range(per.shape[0])]\n",
    "nor_map = dict(zip(per, nor))\n",
    "model_data[\"MaxTrait\"] = model_data[\"MaxTrait\"].map(nor_map)\n",
    "model_data[\"MaxTrait\"] = model_data[\"MaxTrait\"]*30\n",
    "model_data = model_data.head(100)"
   ]
  },
  {
   "cell_type": "code",
   "execution_count": 8,
   "metadata": {
    "scrolled": false
   },
   "outputs": [
    {
     "data": {
      "image/png": "[encoded data removed]",
      "text/plain": [
       "<Figure size 1152x576 with 1 Axes>"
      ]
     },
     "metadata": {
      "needs_background": "light"
     },
     "output_type": "display_data"
    }
   ],
   "source": [
    "#feature checking\n",
    "tfidf = TfidfVectorizer(max_features = 30000, ngram_range = (1,3))\n",
    "x_tfidf = tfidf.fit_transform(model_data.text)\n",
    "y = model_data.sentiment\n",
    "chi2score = chi2(x_tfidf, y)[0]\n",
    "plt.figure(figsize=(16,8))\n",
    "scores = list(zip(tfidf.get_feature_names(), chi2score))\n",
    "chi2 = sorted(scores, key=lambda x:x[1])\n",
    "topchi2 = list(zip(*chi2[-20:]))\n",
    "x = range(len(topchi2[1]))\n",
    "labels = topchi2[0]\n",
    "plt.barh(x,topchi2[1], align='center', alpha=0.5)\n",
    "plt.plot(topchi2[1], x, '-o', markersize=5, alpha=0.8)\n",
    "plt.yticks(x, labels)\n",
    "plt.xlabel('$\\chi^2$')\n",
    "plt.show();"
   ]
  },
  {
   "cell_type": "code",
   "execution_count": 9,
   "metadata": {},
   "outputs": [],
   "source": [
    "#for element in x_tfidf:\n",
    "#    print(element)\n",
    "#tfidf result document id, token id, tfidf_score"
   ]
  },
  {
   "cell_type": "code",
   "execution_count": 10,
   "metadata": {
    "scrolled": false
   },
   "outputs": [
    {
     "name": "stdout",
     "output_type": "stream",
     "text": [
      "(80, 317) (80, 2)\n",
      "(20, 317) (20, 2)\n"
     ]
    }
   ],
   "source": [
    "#LSTM no personality\n",
    "max_len = 300\n",
    "tokenizer = Tokenizer(num_words = max_len, split = \" \")\n",
    "tokenizer.fit_on_texts(model_data[\"text\"].values)\n",
    "x = tokenizer.texts_to_sequences(model_data[\"text\"].values)\n",
    "x = pad_sequences(x)\n",
    "y = pd.get_dummies(model_data[\"sentiment\"]).values\n",
    "x_train, x_test, y_train, y_test = train_test_split(x, y,train_size = 0.8, random_state = 13)\n",
    "print(x_train.shape, y_train.shape)\n",
    "print(x_test.shape, y_test.shape) "
   ]
  },
  {
   "cell_type": "code",
   "execution_count": 11,
   "metadata": {},
   "outputs": [
    {
     "name": "stdout",
     "output_type": "stream",
     "text": [
      "WARNING:tensorflow:From /Users/sherry/anaconda/envs/emo/lib/python3.7/site-packages/keras/backend/tensorflow_backend.py:74: The name tf.get_default_graph is deprecated. Please use tf.compat.v1.get_default_graph instead.\n",
      "\n",
      "WARNING:tensorflow:From /Users/sherry/anaconda/envs/emo/lib/python3.7/site-packages/keras/backend/tensorflow_backend.py:517: The name tf.placeholder is deprecated. Please use tf.compat.v1.placeholder instead.\n",
      "\n",
      "WARNING:tensorflow:From /Users/sherry/anaconda/envs/emo/lib/python3.7/site-packages/keras/backend/tensorflow_backend.py:4138: The name tf.random_uniform is deprecated. Please use tf.random.uniform instead.\n",
      "\n",
      "WARNING:tensorflow:From /Users/sherry/anaconda/envs/emo/lib/python3.7/site-packages/keras/backend/tensorflow_backend.py:133: The name tf.placeholder_with_default is deprecated. Please use tf.compat.v1.placeholder_with_default instead.\n",
      "\n",
      "WARNING:tensorflow:From /Users/sherry/anaconda/envs/emo/lib/python3.7/site-packages/keras/backend/tensorflow_backend.py:3445: calling dropout (from tensorflow.python.ops.nn_ops) with keep_prob is deprecated and will be removed in a future version.\n",
      "Instructions for updating:\n",
      "Please use `rate` instead of `keep_prob`. Rate should be set to `rate = 1 - keep_prob`.\n",
      "WARNING:tensorflow:From /Users/sherry/anaconda/envs/emo/lib/python3.7/site-packages/keras/optimizers.py:790: The name tf.train.Optimizer is deprecated. Please use tf.compat.v1.train.Optimizer instead.\n",
      "\n",
      "WARNING:tensorflow:From /Users/sherry/anaconda/envs/emo/lib/python3.7/site-packages/keras/backend/tensorflow_backend.py:3295: The name tf.log is deprecated. Please use tf.math.log instead.\n",
      "\n",
      "_________________________________________________________________\n",
      "Layer (type)                 Output Shape              Param #   \n",
      "=================================================================\n",
      "embedding_1 (Embedding)      (None, 317, 150)          45000     \n",
      "_________________________________________________________________\n",
      "lstm_1 (LSTM)                (None, 200)               280800    \n",
      "_________________________________________________________________\n",
      "dense_1 (Dense)              (None, 2)                 402       \n",
      "=================================================================\n",
      "Total params: 326,202\n",
      "Trainable params: 326,202\n",
      "Non-trainable params: 0\n",
      "_________________________________________________________________\n",
      "None\n"
     ]
    }
   ],
   "source": [
    "#Build LSTM model\n",
    "embed_dim = 150\n",
    "lstm_out = 200\n",
    "model = Sequential()\n",
    "model.add(Embedding(max_len, embed_dim,input_length = x.shape[1]))\n",
    "model.add(LSTM(lstm_out, dropout=0.2, recurrent_dropout=0.2))\n",
    "model.add(Dense(2,activation='softmax'))\n",
    "model.compile(loss = 'categorical_crossentropy', optimizer='adam',metrics = ['accuracy'])\n",
    "print(model.summary())"
   ]
  },
  {
   "cell_type": "code",
   "execution_count": 12,
   "metadata": {},
   "outputs": [
    {
     "name": "stdout",
     "output_type": "stream",
     "text": [
      "WARNING:tensorflow:From /Users/sherry/anaconda/envs/emo/lib/python3.7/site-packages/tensorflow_core/python/ops/math_grad.py:1424: where (from tensorflow.python.ops.array_ops) is deprecated and will be removed in a future version.\n",
      "Instructions for updating:\n",
      "Use tf.where in 2.0, which has the same broadcast rule as np.where\n",
      "WARNING:tensorflow:From /Users/sherry/anaconda/envs/emo/lib/python3.7/site-packages/keras/backend/tensorflow_backend.py:986: The name tf.assign_add is deprecated. Please use tf.compat.v1.assign_add instead.\n",
      "\n",
      "WARNING:tensorflow:From /Users/sherry/anaconda/envs/emo/lib/python3.7/site-packages/keras/backend/tensorflow_backend.py:973: The name tf.assign is deprecated. Please use tf.compat.v1.assign instead.\n",
      "\n",
      "WARNING:tensorflow:From /Users/sherry/anaconda/envs/emo/lib/python3.7/site-packages/keras/backend/tensorflow_backend.py:2741: The name tf.Session is deprecated. Please use tf.compat.v1.Session instead.\n",
      "\n",
      "Epoch 1/3\n",
      "WARNING:tensorflow:From /Users/sherry/anaconda/envs/emo/lib/python3.7/site-packages/keras/backend/tensorflow_backend.py:174: The name tf.get_default_session is deprecated. Please use tf.compat.v1.get_default_session instead.\n",
      "\n",
      "WARNING:tensorflow:From /Users/sherry/anaconda/envs/emo/lib/python3.7/site-packages/keras/backend/tensorflow_backend.py:181: The name tf.ConfigProto is deprecated. Please use tf.compat.v1.ConfigProto instead.\n",
      "\n",
      "WARNING:tensorflow:From /Users/sherry/anaconda/envs/emo/lib/python3.7/site-packages/keras/backend/tensorflow_backend.py:190: The name tf.global_variables is deprecated. Please use tf.compat.v1.global_variables instead.\n",
      "\n",
      "WARNING:tensorflow:From /Users/sherry/anaconda/envs/emo/lib/python3.7/site-packages/keras/backend/tensorflow_backend.py:199: The name tf.is_variable_initialized is deprecated. Please use tf.compat.v1.is_variable_initialized instead.\n",
      "\n",
      "WARNING:tensorflow:From /Users/sherry/anaconda/envs/emo/lib/python3.7/site-packages/keras/backend/tensorflow_backend.py:206: The name tf.variables_initializer is deprecated. Please use tf.compat.v1.variables_initializer instead.\n",
      "\n",
      " - 9s - loss: 0.6857 - acc: 0.6250\n",
      "Epoch 2/3\n",
      " - 4s - loss: 0.6355 - acc: 0.7750\n",
      "Epoch 3/3\n",
      " - 4s - loss: 0.4949 - acc: 0.8250\n"
     ]
    },
    {
     "data": {
      "text/plain": [
       "<keras.callbacks.History at 0x1a444ebf50>"
      ]
     },
     "execution_count": 12,
     "metadata": {},
     "output_type": "execute_result"
    }
   ],
   "source": [
    "#Train model\n",
    "batch_size = 32\n",
    "model.fit(x_train, y_train, epochs = 3, batch_size=batch_size, verbose = 2)"
   ]
  },
  {
   "cell_type": "code",
   "execution_count": 13,
   "metadata": {
    "scrolled": true
   },
   "outputs": [
    {
     "name": "stdout",
     "output_type": "stream",
     "text": [
      "score: 0.42\n",
      "acc: 0.80\n"
     ]
    }
   ],
   "source": [
    "score,acc = model.evaluate(x_test, y_test, verbose = 2, batch_size = batch_size)\n",
    "print(\"score: %.2f\" % (score))\n",
    "print(\"acc: %.2f\" % (acc))"
   ]
  },
  {
   "cell_type": "code",
   "execution_count": 14,
   "metadata": {},
   "outputs": [],
   "source": [
    "#Initializing measure matrix\n",
    "pos_count, neg_count, pos_correct, neg_correct = 0, 0, 0, 0\n",
    "for x in range(len(x_test)):   \n",
    "    result = model.predict(x_test[x].reshape(1,x_test.shape[1]),batch_size=1,verbose = 2)[0]   \n",
    "    if np.argmax(result) == np.argmax(y_test[x]):\n",
    "        if np.argmax(y_test[x]) == 0:\n",
    "            neg_correct += 1\n",
    "        else:\n",
    "            pos_correct += 1       \n",
    "    if np.argmax(y_test[x]) == 0:\n",
    "        neg_count += 1\n",
    "    else:\n",
    "        pos_count += 1\n",
    "pos_acc = pos_correct/pos_count\n",
    "neg_acc = neg_correct/neg_count\n",
    "g_mean = sqrt(pos_acc*neg_acc)\n",
    "#save performance\n",
    "accuracy = np.array(acc)\n",
    "g_out = np.array(g_mean)\n",
    "pos = np.array(pos_acc)\n",
    "neg = np.array(neg_acc)"
   ]
  },
  {
   "cell_type": "code",
   "execution_count": 15,
   "metadata": {},
   "outputs": [],
   "source": [
    "#LSTM by personality\n",
    "max_len = 300\n",
    "tokenizer = Tokenizer(num_words = max_len, split = \" \")\n",
    "tokenizer.fit_on_texts(model_data[\"text\"].values)\n",
    "x = tokenizer.texts_to_sequences(model_data[\"text\"].values)\n",
    "x = pad_sequences(x)\n",
    "y = pd.get_dummies(model_data[\"sentiment\"]).values\n",
    "x = pd.DataFrame(x)\n",
    "x.insert(0, \"MaxTrait\", model_data[\"MaxTrait\"])\n",
    "x = x.to_numpy()\n",
    "x_train, x_test, y_train, y_test = train_test_split(x, y,train_size = 0.8, random_state = 13)\n",
    "#print(x_train.shape, y_train.shape)\n",
    "#print(x_test.shape, y_test.shape) "
   ]
  },
  {
   "cell_type": "code",
   "execution_count": 16,
   "metadata": {
    "scrolled": true
   },
   "outputs": [
    {
     "name": "stdout",
     "output_type": "stream",
     "text": [
      "_________________________________________________________________\n",
      "Layer (type)                 Output Shape              Param #   \n",
      "=================================================================\n",
      "embedding_2 (Embedding)      (None, 318, 150)          45000     \n",
      "_________________________________________________________________\n",
      "lstm_2 (LSTM)                (None, 100)               100400    \n",
      "_________________________________________________________________\n",
      "dense_2 (Dense)              (None, 2)                 202       \n",
      "=================================================================\n",
      "Total params: 145,602\n",
      "Trainable params: 145,602\n",
      "Non-trainable params: 0\n",
      "_________________________________________________________________\n",
      "None\n"
     ]
    }
   ],
   "source": [
    "#Build LSTM model\n",
    "embed_dim = 150\n",
    "lstm_out = 100\n",
    "model = Sequential()\n",
    "model.add(Embedding(max_len, embed_dim,input_length = x.shape[1]))\n",
    "model.add(LSTM(lstm_out, dropout=0.2, recurrent_dropout=0.2))\n",
    "model.add(Dense(2,activation='softmax'))\n",
    "model.compile(loss = 'categorical_crossentropy', optimizer='adam',metrics = ['accuracy'])\n",
    "print(model.summary())"
   ]
  },
  {
   "cell_type": "code",
   "execution_count": 17,
   "metadata": {},
   "outputs": [
    {
     "name": "stdout",
     "output_type": "stream",
     "text": [
      "Epoch 1/3\n",
      " - 8s - loss: 0.6862 - acc: 0.6250\n",
      "Epoch 2/3\n",
      " - 4s - loss: 0.6567 - acc: 0.7875\n",
      "Epoch 3/3\n",
      " - 4s - loss: 0.6114 - acc: 0.8000\n"
     ]
    },
    {
     "data": {
      "text/plain": [
       "<keras.callbacks.History at 0x1a48b15cd0>"
      ]
     },
     "execution_count": 17,
     "metadata": {},
     "output_type": "execute_result"
    }
   ],
   "source": [
    "batch_size = 32\n",
    "model.fit(x_train, y_train, epochs = 3, batch_size=batch_size, verbose = 2)"
   ]
  },
  {
   "cell_type": "code",
   "execution_count": 18,
   "metadata": {},
   "outputs": [
    {
     "name": "stdout",
     "output_type": "stream",
     "text": [
      "score: 0.57\n",
      "acc: 0.80\n"
     ]
    }
   ],
   "source": [
    "score,acc = model.evaluate(x_test, y_test, verbose = 2, batch_size = batch_size)\n",
    "print(\"score: %.2f\" % (score))\n",
    "print(\"acc: %.2f\" % (acc))"
   ]
  },
  {
   "cell_type": "code",
   "execution_count": 19,
   "metadata": {},
   "outputs": [
    {
     "name": "stdout",
     "output_type": "stream",
     "text": [
      "0.0\n",
      "0.9411764705882353\n",
      "0.0\n"
     ]
    }
   ],
   "source": [
    "#Initializing measure matrix\n",
    "pos_count, neg_count, pos_correct, neg_correct = 0, 0, 0, 0\n",
    "for x in range(len(x_test)):\n",
    "    \n",
    "    result = model.predict(x_test[x].reshape(1,x_test.shape[1]),batch_size=1,verbose = 2)[0]\n",
    "   \n",
    "    if np.argmax(result) == np.argmax(y_test[x]):\n",
    "        if np.argmax(y_test[x]) == 0:\n",
    "            neg_correct += 1\n",
    "        else:\n",
    "            pos_correct += 1\n",
    "       \n",
    "    if np.argmax(y_test[x]) == 0:\n",
    "        neg_count += 1\n",
    "    else:\n",
    "        pos_count += 1\n",
    "pos_acc = pos_correct/pos_count\n",
    "neg_acc = neg_correct/neg_count\n",
    "g_mean = sqrt(pos_acc*neg_acc)\n",
    "accuracy = np.append(accuracy, np.array(acc))\n",
    "g_out = np.append(g_out,np.array(g_mean))\n",
    "print(pos_acc)\n",
    "print(neg_acc)\n",
    "print(g_mean)\n",
    "pos = np.append(pos,np.array(pos_acc))\n",
    "neg = np.append(neg, np.array(neg_acc))"
   ]
  },
  {
   "cell_type": "code",
   "execution_count": 20,
   "metadata": {
    "scrolled": true
   },
   "outputs": [
    {
     "name": "stdout",
     "output_type": "stream",
     "text": [
      "[0.80000001 0.80000001]\n",
      "[0.74095857 0.        ]\n",
      "[0.66666667 0.        ]\n",
      "[0.82352941 0.94117647]\n"
     ]
    }
   ],
   "source": [
    "print(accuracy)\n",
    "print(g_out)\n",
    "print(pos)\n",
    "print(neg)"
   ]
  },
  {
   "cell_type": "code",
   "execution_count": 23,
   "metadata": {},
   "outputs": [],
   "source": [
    "output = pd.DataFrame({\"accuracy\":accuracy, \"g_mean\":g_out, \"pos\":pos, \"neg\":neg})"
   ]
  },
  {
   "cell_type": "code",
   "execution_count": 24,
   "metadata": {},
   "outputs": [],
   "source": [
    "output.to_csv(\"lstmoutput.csv\", index = False)"
   ]
  }
 ],
 "metadata": {
  "kernelspec": {
   "display_name": "Python [conda env:emo] *",
   "language": "python",
   "name": "conda-env-emo-py"
  },
  "language_info": {
   "codemirror_mode": {
    "name": "ipython",
    "version": 3
   },
   "file_extension": ".py",
   "mimetype": "text/x-python",
   "name": "python",
   "nbconvert_exporter": "python",
   "pygments_lexer": "ipython3",
   "version": "3.7.5"
  }
 },
 "nbformat": 4,
 "nbformat_minor": 2
}
