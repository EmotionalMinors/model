{
 "cells": [
  {
   "cell_type": "code",
   "execution_count": 14,
   "metadata": {},
   "outputs": [],
   "source": [
    "from math import sqrt\n",
    "from math import isnan\n",
    "import pandas as pd\n",
    "import numpy as np\n",
    "import nltk\n",
    "from nltk.corpus import stopwords \n",
    "from nltk.tokenize import word_tokenize, sent_tokenize\n",
    "from sklearn.model_selection import train_test_split\n",
    "from sklearn.feature_extraction.text import TfidfTransformer\n",
    "from sklearn.feature_extraction.text import TfidfVectorizer\n",
    "from sklearn.naive_bayes import MultinomialNB\n",
    "from sklearn.metrics import accuracy_score\n",
    "from sklearn.metrics import confusion_matrix\n",
    "\n",
    "stop_words = set(stopwords.words('english'))"
   ]
  },
  {
   "cell_type": "code",
   "execution_count": 15,
   "metadata": {},
   "outputs": [
    {
     "data": {
      "text/html": [
       "<div>\n",
       "<style scoped>\n",
       "    .dataframe tbody tr th:only-of-type {\n",
       "        vertical-align: middle;\n",
       "    }\n",
       "\n",
       "    .dataframe tbody tr th {\n",
       "        vertical-align: top;\n",
       "    }\n",
       "\n",
       "    .dataframe thead th {\n",
       "        text-align: right;\n",
       "    }\n",
       "</style>\n",
       "<table border=\"1\" class=\"dataframe\">\n",
       "  <thead>\n",
       "    <tr style=\"text-align: right;\">\n",
       "      <th></th>\n",
       "      <th>Unnamed: 0</th>\n",
       "      <th>unique_id</th>\n",
       "      <th>id</th>\n",
       "      <th>product_name</th>\n",
       "      <th>product_type</th>\n",
       "      <th>helpful</th>\n",
       "      <th>rating</th>\n",
       "      <th>title</th>\n",
       "      <th>date</th>\n",
       "      <th>reviewer</th>\n",
       "      <th>location</th>\n",
       "      <th>text</th>\n",
       "      <th>MaxTrait</th>\n",
       "    </tr>\n",
       "  </thead>\n",
       "  <tbody>\n",
       "    <tr>\n",
       "      <th>0</th>\n",
       "      <td>1</td>\n",
       "      <td>B0007QCQA4:good_sneakers:christopher_w._damico...</td>\n",
       "      <td>B0007QCQA4</td>\n",
       "      <td>adidas Originals Men's Superstar II Basketball...</td>\n",
       "      <td>apparel</td>\n",
       "      <td>0 of 1</td>\n",
       "      <td>4</td>\n",
       "      <td>GOOD SNEAKERS</td>\n",
       "      <td>July 15, 2006</td>\n",
       "      <td>Christopher W. Damico \"MACMAN\"</td>\n",
       "      <td>NYC</td>\n",
       "      <td>GOOD LOOKING KICKS IF YOUR KICKIN IT OLD SCHOO...</td>\n",
       "      <td>conscientiousness</td>\n",
       "    </tr>\n",
       "    <tr>\n",
       "      <th>1</th>\n",
       "      <td>2</td>\n",
       "      <td>B0002Y2JYY:pretty_good:sharon_civile_\"jackbaue...</td>\n",
       "      <td>B0002Y2JYY</td>\n",
       "      <td>Elite Metal Aviator Sunglasses with Mirror Len...</td>\n",
       "      <td>apparel</td>\n",
       "      <td>3 of 5</td>\n",
       "      <td>4</td>\n",
       "      <td>Pretty Good</td>\n",
       "      <td>August 13, 2006</td>\n",
       "      <td>Sharon Civile \"Jackbauerfreak\"</td>\n",
       "      <td>Philadelphia, PA</td>\n",
       "      <td>These sunglasses are all right. They were a li...</td>\n",
       "      <td>openness</td>\n",
       "    </tr>\n",
       "    <tr>\n",
       "      <th>2</th>\n",
       "      <td>3</td>\n",
       "      <td>B0002X9A5G:can't_go_wrong_at_this_price:j._gou...</td>\n",
       "      <td>B0002X9A5G</td>\n",
       "      <td>5-Pack Bodysuits: Apparel</td>\n",
       "      <td>apparel</td>\n",
       "      <td>1 of 1</td>\n",
       "      <td>5</td>\n",
       "      <td>Can't go wrong at this price</td>\n",
       "      <td>May 18, 2006</td>\n",
       "      <td>J. Gould \"south_paw712\"</td>\n",
       "      <td>KY</td>\n",
       "      <td>I don't see the difference between these bodys...</td>\n",
       "      <td>extraversion</td>\n",
       "    </tr>\n",
       "    <tr>\n",
       "      <th>3</th>\n",
       "      <td>4</td>\n",
       "      <td>B0002X9A5G:green!:s._feldman</td>\n",
       "      <td>B0002X9A5G</td>\n",
       "      <td>5-Pack Bodysuits: Apparel</td>\n",
       "      <td>apparel</td>\n",
       "      <td>0 of 1</td>\n",
       "      <td>5</td>\n",
       "      <td>Green!</td>\n",
       "      <td>February 28, 2006</td>\n",
       "      <td>S. Feldman</td>\n",
       "      <td>Virginia, United States</td>\n",
       "      <td>Very nice basic clothing. I think the size is ...</td>\n",
       "      <td>extraversion</td>\n",
       "    </tr>\n",
       "    <tr>\n",
       "      <th>4</th>\n",
       "      <td>5</td>\n",
       "      <td>B0006UHRJQ:perfect!:amanda_kathleen</td>\n",
       "      <td>B0006UHRJQ</td>\n",
       "      <td>3-Pack Straight Edge (non-skid) Socks: Apparel</td>\n",
       "      <td>apparel</td>\n",
       "      <td>8 of 8</td>\n",
       "      <td>5</td>\n",
       "      <td>perfect!</td>\n",
       "      <td>December 15, 2005</td>\n",
       "      <td>Amanda Kathleen</td>\n",
       "      <td>Delaware, USA</td>\n",
       "      <td>I love these socks. They fit great (my 15 mont...</td>\n",
       "      <td>extraversion</td>\n",
       "    </tr>\n",
       "  </tbody>\n",
       "</table>\n",
       "</div>"
      ],
      "text/plain": [
       "   Unnamed: 0                                          unique_id          id  \\\n",
       "0           1  B0007QCQA4:good_sneakers:christopher_w._damico...  B0007QCQA4   \n",
       "1           2  B0002Y2JYY:pretty_good:sharon_civile_\"jackbaue...  B0002Y2JYY   \n",
       "2           3  B0002X9A5G:can't_go_wrong_at_this_price:j._gou...  B0002X9A5G   \n",
       "3           4                       B0002X9A5G:green!:s._feldman  B0002X9A5G   \n",
       "4           5                B0006UHRJQ:perfect!:amanda_kathleen  B0006UHRJQ   \n",
       "\n",
       "                                        product_name product_type helpful  \\\n",
       "0  adidas Originals Men's Superstar II Basketball...      apparel  0 of 1   \n",
       "1  Elite Metal Aviator Sunglasses with Mirror Len...      apparel  3 of 5   \n",
       "2                          5-Pack Bodysuits: Apparel      apparel  1 of 1   \n",
       "3                          5-Pack Bodysuits: Apparel      apparel  0 of 1   \n",
       "4     3-Pack Straight Edge (non-skid) Socks: Apparel      apparel  8 of 8   \n",
       "\n",
       "   rating                         title               date  \\\n",
       "0       4                 GOOD SNEAKERS      July 15, 2006   \n",
       "1       4                   Pretty Good    August 13, 2006   \n",
       "2       5  Can't go wrong at this price       May 18, 2006   \n",
       "3       5                        Green!  February 28, 2006   \n",
       "4       5                      perfect!  December 15, 2005   \n",
       "\n",
       "                         reviewer                 location  \\\n",
       "0  Christopher W. Damico \"MACMAN\"                      NYC   \n",
       "1  Sharon Civile \"Jackbauerfreak\"         Philadelphia, PA   \n",
       "2         J. Gould \"south_paw712\"                       KY   \n",
       "3                      S. Feldman  Virginia, United States   \n",
       "4                 Amanda Kathleen            Delaware, USA   \n",
       "\n",
       "                                                text           MaxTrait  \n",
       "0  GOOD LOOKING KICKS IF YOUR KICKIN IT OLD SCHOO...  conscientiousness  \n",
       "1  These sunglasses are all right. They were a li...           openness  \n",
       "2  I don't see the difference between these bodys...       extraversion  \n",
       "3  Very nice basic clothing. I think the size is ...       extraversion  \n",
       "4  I love these socks. They fit great (my 15 mont...       extraversion  "
      ]
     },
     "execution_count": 15,
     "metadata": {},
     "output_type": "execute_result"
    }
   ],
   "source": [
    "data = pd.read_csv(\"newcleanset.csv\")\n",
    "data.head()"
   ]
  },
  {
   "cell_type": "code",
   "execution_count": 16,
   "metadata": {},
   "outputs": [],
   "source": [
    "sentiment = data[\"rating\"] >3\n",
    "sentiment = sentiment.astype(int)"
   ]
  },
  {
   "cell_type": "code",
   "execution_count": 17,
   "metadata": {
    "scrolled": true
   },
   "outputs": [
    {
     "data": {
      "text/plain": [
       "(11984, 3)"
      ]
     },
     "execution_count": 17,
     "metadata": {},
     "output_type": "execute_result"
    }
   ],
   "source": [
    "#Prepare model data\n",
    "#Run model by group\n",
    "model_data = pd.DataFrame({\"MaxTrait\":data[\"MaxTrait\"],\"text\": data[\"text\"], \"sentiment\":sentiment})\n",
    "model_data.shape"
   ]
  },
  {
   "cell_type": "code",
   "execution_count": 18,
   "metadata": {},
   "outputs": [],
   "source": [
    "def remove_pun(element):\n",
    "    import string\n",
    "    translator = str.maketrans('', '', string.punctuation)\n",
    "    return element.translate(translator)"
   ]
  },
  {
   "cell_type": "code",
   "execution_count": 19,
   "metadata": {},
   "outputs": [],
   "source": [
    "def remove_stopwords(element):\n",
    "    element = [word.lower() for word in element.split() if word.lower() not in stop_words]\n",
    "    return \" \".join(element)"
   ]
  },
  {
   "cell_type": "code",
   "execution_count": 20,
   "metadata": {},
   "outputs": [],
   "source": [
    "model_data[\"text\"] = model_data[\"text\"].apply(remove_pun)\n",
    "model_data[\"text\"] = model_data[\"text\"].apply(remove_stopwords)"
   ]
  },
  {
   "cell_type": "code",
   "execution_count": 21,
   "metadata": {
    "scrolled": true
   },
   "outputs": [
    {
     "name": "stdout",
     "output_type": "stream",
     "text": [
      "(9587, 50482) (2397, 50482)\n",
      "[[1020  135]\n",
      " [ 303  939]]\n"
     ]
    }
   ],
   "source": [
    "#Generate training test split\n",
    "#0.8 training 0.2 test\n",
    "#all data\n",
    "x = model_data[\"text\"]\n",
    "y = model_data[\"sentiment\"]\n",
    "x_train, x_test, y_train, y_test = train_test_split(x, y,train_size = 0.8, random_state = 13)\n",
    "x_train = x_train.values\n",
    "y_train = y_train.values\n",
    "x_test = x_test.values\n",
    "y_test = y_test.values\n",
    "#TF-IDF\n",
    "vectorizer = TfidfVectorizer()\n",
    "train_vectors = vectorizer.fit_transform(x_train)\n",
    "test_vectors = vectorizer.transform(x_test)\n",
    "print(train_vectors.shape, test_vectors.shape)\n",
    "#Train basic Naive Bayes Classifier\n",
    "nb = MultinomialNB().fit(train_vectors, y_train)\n",
    "#predict values\n",
    "predicted = nb.predict(test_vectors)\n",
    "#Use array to store all data\n",
    "accuracy = np.array(accuracy_score(y_test, predicted))\n",
    "cm = confusion_matrix(y_test, predicted)\n",
    "if cm.shape[0] == 2:\n",
    "    neg_acc = cm[0,0]/(cm[0,0]+cm[1,0])\n",
    "    pos_acc = cm[1,1]/(cm[0,1]+cm[1,1])\n",
    "    if isnan(neg_acc):\n",
    "        neg_acc = 0\n",
    "    if isnan(pos_acc):\n",
    "        pos_acc = 0\n",
    "    measure = sqrt(neg_acc*pos_acc)\n",
    "else:\n",
    "    measure = 0\n",
    "g_mean = np.array(measure)\n",
    "print(cm)"
   ]
  },
  {
   "cell_type": "code",
   "execution_count": 22,
   "metadata": {},
   "outputs": [
    {
     "name": "stdout",
     "output_type": "stream",
     "text": [
      "(961, 12250) (255, 12250)\n",
      "[[131   6]\n",
      " [ 63  55]]\n",
      "(2661, 24227) (645, 24227)\n",
      "[[264  55]\n",
      " [ 77 249]]\n",
      "(3137, 18928) (770, 18928)\n",
      "[[ 73 242]\n",
      " [  0 455]]\n",
      "(203, 2616) (62, 2616)\n",
      "[[54  0]\n",
      " [ 8  0]]\n"
     ]
    },
    {
     "name": "stderr",
     "output_type": "stream",
     "text": [
      "/Users/sherry/anaconda/envs/emo/lib/python3.7/site-packages/ipykernel_launcher.py:32: RuntimeWarning: invalid value encountered in long_scalars\n"
     ]
    },
    {
     "name": "stdout",
     "output_type": "stream",
     "text": [
      "(2649, 27923) (641, 27923)\n",
      "[[371   1]\n",
      " [245  24]]\n"
     ]
    }
   ],
   "source": [
    "for element in np.unique(model_data[\"MaxTrait\"]):\n",
    "    model_subset = model_data[model_data[\"MaxTrait\"] == element]\n",
    "    #Generate training test split\n",
    "    #0.8 training 0.2 test\n",
    "    #all data\n",
    "    np.random.seed(19)\n",
    "    array = np.random.rand(model_subset.shape[0])\n",
    "    train = array > 0.2\n",
    "    test = array <= 0.2\n",
    "    train = model_subset[train]\n",
    "    test  = model_subset[test]\n",
    "    #Building TF-IDF Naive Bayes Classifier\n",
    "    x_train = train[\"text\"].values\n",
    "    y_train = train[\"sentiment\"].values\n",
    "    x_test = test[\"text\"].values\n",
    "    y_test = test[\"sentiment\"].values\n",
    "    #TF-IDF\n",
    "    vectorizer = TfidfVectorizer()\n",
    "    train_vectors = vectorizer.fit_transform(x_train)\n",
    "    test_vectors = vectorizer.transform(x_test)\n",
    "    print(train_vectors.shape, test_vectors.shape)\n",
    "    #Train basic Naive Bayes Classifier\n",
    "    nb = MultinomialNB().fit(train_vectors, y_train)\n",
    "    #predict values\n",
    "    predicted = nb.predict(test_vectors)\n",
    "    #Use array to store all data\n",
    "    accuracy = np.append(accuracy, np.array(accuracy_score(y_test, predicted)))\n",
    "    cm = confusion_matrix(y_test, predicted)\n",
    "    if cm.shape != (2,2):\n",
    "        measure = 0\n",
    "    else:\n",
    "        measure = sqrt((cm[0,0]/(cm[0,0]+cm[1,0]))*(cm[1,1]/(cm[0,1]+cm[1,1])))\n",
    "    g_mean = np.append(g_mean, np.array(measure))\n",
    "    print(cm)"
   ]
  },
  {
   "cell_type": "code",
   "execution_count": 23,
   "metadata": {},
   "outputs": [],
   "source": [
    "#outputing nb result\n",
    "category = np.append(\"All\", np.unique(model_data[\"MaxTrait\"]))\n",
    "output = pd.DataFrame({\"Category\":category, \"accuracy\":accuracy, \"g_mean\":g_mean})"
   ]
  },
  {
   "cell_type": "code",
   "execution_count": 24,
   "metadata": {
    "scrolled": false
   },
   "outputs": [
    {
     "data": {
      "text/html": [
       "<div>\n",
       "<style scoped>\n",
       "    .dataframe tbody tr th:only-of-type {\n",
       "        vertical-align: middle;\n",
       "    }\n",
       "\n",
       "    .dataframe tbody tr th {\n",
       "        vertical-align: top;\n",
       "    }\n",
       "\n",
       "    .dataframe thead th {\n",
       "        text-align: right;\n",
       "    }\n",
       "</style>\n",
       "<table border=\"1\" class=\"dataframe\">\n",
       "  <thead>\n",
       "    <tr style=\"text-align: right;\">\n",
       "      <th></th>\n",
       "      <th>Category</th>\n",
       "      <th>accuracy</th>\n",
       "      <th>g_mean</th>\n",
       "    </tr>\n",
       "  </thead>\n",
       "  <tbody>\n",
       "    <tr>\n",
       "      <th>0</th>\n",
       "      <td>All</td>\n",
       "      <td>0.817272</td>\n",
       "      <td>0.821014</td>\n",
       "    </tr>\n",
       "    <tr>\n",
       "      <th>1</th>\n",
       "      <td>agreeableness</td>\n",
       "      <td>0.729412</td>\n",
       "      <td>0.780281</td>\n",
       "    </tr>\n",
       "    <tr>\n",
       "      <th>2</th>\n",
       "      <td>conscientiousness</td>\n",
       "      <td>0.795349</td>\n",
       "      <td>0.796320</td>\n",
       "    </tr>\n",
       "    <tr>\n",
       "      <th>3</th>\n",
       "      <td>extraversion</td>\n",
       "      <td>0.685714</td>\n",
       "      <td>0.807959</td>\n",
       "    </tr>\n",
       "    <tr>\n",
       "      <th>4</th>\n",
       "      <td>neuroticism</td>\n",
       "      <td>0.870968</td>\n",
       "      <td>NaN</td>\n",
       "    </tr>\n",
       "    <tr>\n",
       "      <th>5</th>\n",
       "      <td>openness</td>\n",
       "      <td>0.616225</td>\n",
       "      <td>0.760383</td>\n",
       "    </tr>\n",
       "  </tbody>\n",
       "</table>\n",
       "</div>"
      ],
      "text/plain": [
       "            Category  accuracy    g_mean\n",
       "0                All  0.817272  0.821014\n",
       "1      agreeableness  0.729412  0.780281\n",
       "2  conscientiousness  0.795349  0.796320\n",
       "3       extraversion  0.685714  0.807959\n",
       "4        neuroticism  0.870968       NaN\n",
       "5           openness  0.616225  0.760383"
      ]
     },
     "execution_count": 24,
     "metadata": {},
     "output_type": "execute_result"
    }
   ],
   "source": [
    "output"
   ]
  },
  {
   "cell_type": "code",
   "execution_count": 25,
   "metadata": {},
   "outputs": [],
   "source": [
    "output.to_csv(\"nboutput.csv\",index = False)"
   ]
  }
 ],
 "metadata": {
  "kernelspec": {
   "display_name": "Python [conda env:emo] *",
   "language": "python",
   "name": "conda-env-emo-py"
  },
  "language_info": {
   "codemirror_mode": {
    "name": "ipython",
    "version": 3
   },
   "file_extension": ".py",
   "mimetype": "text/x-python",
   "name": "python",
   "nbconvert_exporter": "python",
   "pygments_lexer": "ipython3",
   "version": "3.7.5"
  }
 },
 "nbformat": 4,
 "nbformat_minor": 2
}
