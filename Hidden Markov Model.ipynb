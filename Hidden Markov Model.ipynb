{
 "cells": [
  {
   "cell_type": "code",
   "execution_count": 79,
   "metadata": {},
   "outputs": [],
   "source": [
    "import pandas as pd\n",
    "import numpy as np\n",
    "import nltk\n",
    "from nltk.corpus import stopwords \n",
    "from nltk.tokenize import word_tokenize, sent_tokenize \n",
    "from nltk.corpus import wordnet as wn\n",
    "from nltk import pos_tag\n",
    "from nltk.stem import WordNetLemmatizer\n",
    "from collections import defaultdict\n",
    "from sklearn.preprocessing import LabelEncoder\n",
    "from sklearn.feature_extraction.text import TfidfVectorizer\n",
    "from sklearn import model_selection, naive_bayes, svm\n",
    "from sklearn.metrics import accuracy_score\n",
    "from hmmlearn import hmm\n",
    "import random\n",
    "#nltk.download()"
   ]
  },
  {
   "cell_type": "code",
   "execution_count": 2,
   "metadata": {},
   "outputs": [],
   "source": [
    "#Read data from dataset\n",
    "data = pd.read_csv(\"sub.csv\")"
   ]
  },
  {
   "cell_type": "code",
   "execution_count": 3,
   "metadata": {},
   "outputs": [
    {
     "data": {
      "text/html": [
       "<div>\n",
       "<style scoped>\n",
       "    .dataframe tbody tr th:only-of-type {\n",
       "        vertical-align: middle;\n",
       "    }\n",
       "\n",
       "    .dataframe tbody tr th {\n",
       "        vertical-align: top;\n",
       "    }\n",
       "\n",
       "    .dataframe thead th {\n",
       "        text-align: right;\n",
       "    }\n",
       "</style>\n",
       "<table border=\"1\" class=\"dataframe\">\n",
       "  <thead>\n",
       "    <tr style=\"text-align: right;\">\n",
       "      <th></th>\n",
       "      <th>Unnamed: 0</th>\n",
       "      <th>unique_id</th>\n",
       "      <th>id</th>\n",
       "      <th>product_name</th>\n",
       "      <th>product_type</th>\n",
       "      <th>helpful</th>\n",
       "      <th>rating</th>\n",
       "      <th>title</th>\n",
       "      <th>date</th>\n",
       "      <th>reviewer</th>\n",
       "      <th>location</th>\n",
       "      <th>text</th>\n",
       "      <th>MaxTrait</th>\n",
       "    </tr>\n",
       "  </thead>\n",
       "  <tbody>\n",
       "    <tr>\n",
       "      <th>0</th>\n",
       "      <td>1</td>\n",
       "      <td>B0007QCQA4:good_sneakers:christopher_w._damico...</td>\n",
       "      <td>B0007QCQA4</td>\n",
       "      <td>adidas Originals Men's Superstar II Basketball...</td>\n",
       "      <td>apparel</td>\n",
       "      <td>0 of 1</td>\n",
       "      <td>4</td>\n",
       "      <td>GOOD SNEAKERS</td>\n",
       "      <td>July 15, 2006</td>\n",
       "      <td>Christopher W. Damico \"MACMAN\"</td>\n",
       "      <td>NYC</td>\n",
       "      <td>GOOD LOOKING KICKS IF YOUR KICKIN IT OLD SCHOO...</td>\n",
       "      <td>Cat</td>\n",
       "    </tr>\n",
       "    <tr>\n",
       "      <th>1</th>\n",
       "      <td>2</td>\n",
       "      <td>B0002Y2JYY:pretty_good:sharon_civile_\"jackbaue...</td>\n",
       "      <td>B0002Y2JYY</td>\n",
       "      <td>Elite Metal Aviator Sunglasses with Mirror Len...</td>\n",
       "      <td>apparel</td>\n",
       "      <td>3 of 5</td>\n",
       "      <td>4</td>\n",
       "      <td>Pretty Good</td>\n",
       "      <td>August 13, 2006</td>\n",
       "      <td>Sharon Civile \"Jackbauerfreak\"</td>\n",
       "      <td>Philadelphia, PA</td>\n",
       "      <td>These sunglasses are all right. They were a li...</td>\n",
       "      <td>Cat</td>\n",
       "    </tr>\n",
       "    <tr>\n",
       "      <th>2</th>\n",
       "      <td>3</td>\n",
       "      <td>B0002X9A5G:can't_go_wrong_at_this_price:j._gou...</td>\n",
       "      <td>B0002X9A5G</td>\n",
       "      <td>5-Pack Bodysuits: Apparel</td>\n",
       "      <td>apparel</td>\n",
       "      <td>1 of 1</td>\n",
       "      <td>5</td>\n",
       "      <td>Can't go wrong at this price</td>\n",
       "      <td>May 18, 2006</td>\n",
       "      <td>J. Gould \"south_paw712\"</td>\n",
       "      <td>KY</td>\n",
       "      <td>I don't see the difference between these bodys...</td>\n",
       "      <td>Cat</td>\n",
       "    </tr>\n",
       "    <tr>\n",
       "      <th>3</th>\n",
       "      <td>4</td>\n",
       "      <td>B0002X9A5G:green!:s._feldman</td>\n",
       "      <td>B0002X9A5G</td>\n",
       "      <td>5-Pack Bodysuits: Apparel</td>\n",
       "      <td>apparel</td>\n",
       "      <td>0 of 1</td>\n",
       "      <td>5</td>\n",
       "      <td>Green!</td>\n",
       "      <td>February 28, 2006</td>\n",
       "      <td>S. Feldman</td>\n",
       "      <td>Virginia, United States</td>\n",
       "      <td>Very nice basic clothing. I think the size is ...</td>\n",
       "      <td>Cat</td>\n",
       "    </tr>\n",
       "    <tr>\n",
       "      <th>4</th>\n",
       "      <td>5</td>\n",
       "      <td>B0006UHRJQ:perfect!:amanda_kathleen</td>\n",
       "      <td>B0006UHRJQ</td>\n",
       "      <td>3-Pack Straight Edge (non-skid) Socks: Apparel</td>\n",
       "      <td>apparel</td>\n",
       "      <td>8 of 8</td>\n",
       "      <td>5</td>\n",
       "      <td>perfect!</td>\n",
       "      <td>December 15, 2005</td>\n",
       "      <td>Amanda Kathleen</td>\n",
       "      <td>Delaware, USA</td>\n",
       "      <td>I love these socks. They fit great (my 15 mont...</td>\n",
       "      <td>Cat</td>\n",
       "    </tr>\n",
       "  </tbody>\n",
       "</table>\n",
       "</div>"
      ],
      "text/plain": [
       "   Unnamed: 0                                          unique_id          id  \\\n",
       "0           1  B0007QCQA4:good_sneakers:christopher_w._damico...  B0007QCQA4   \n",
       "1           2  B0002Y2JYY:pretty_good:sharon_civile_\"jackbaue...  B0002Y2JYY   \n",
       "2           3  B0002X9A5G:can't_go_wrong_at_this_price:j._gou...  B0002X9A5G   \n",
       "3           4                       B0002X9A5G:green!:s._feldman  B0002X9A5G   \n",
       "4           5                B0006UHRJQ:perfect!:amanda_kathleen  B0006UHRJQ   \n",
       "\n",
       "                                        product_name product_type helpful  \\\n",
       "0  adidas Originals Men's Superstar II Basketball...      apparel  0 of 1   \n",
       "1  Elite Metal Aviator Sunglasses with Mirror Len...      apparel  3 of 5   \n",
       "2                          5-Pack Bodysuits: Apparel      apparel  1 of 1   \n",
       "3                          5-Pack Bodysuits: Apparel      apparel  0 of 1   \n",
       "4     3-Pack Straight Edge (non-skid) Socks: Apparel      apparel  8 of 8   \n",
       "\n",
       "   rating                         title               date  \\\n",
       "0       4                 GOOD SNEAKERS      July 15, 2006   \n",
       "1       4                   Pretty Good    August 13, 2006   \n",
       "2       5  Can't go wrong at this price       May 18, 2006   \n",
       "3       5                        Green!  February 28, 2006   \n",
       "4       5                      perfect!  December 15, 2005   \n",
       "\n",
       "                         reviewer                 location  \\\n",
       "0  Christopher W. Damico \"MACMAN\"                      NYC   \n",
       "1  Sharon Civile \"Jackbauerfreak\"         Philadelphia, PA   \n",
       "2         J. Gould \"south_paw712\"                       KY   \n",
       "3                      S. Feldman  Virginia, United States   \n",
       "4                 Amanda Kathleen            Delaware, USA   \n",
       "\n",
       "                                                text MaxTrait  \n",
       "0  GOOD LOOKING KICKS IF YOUR KICKIN IT OLD SCHOO...      Cat  \n",
       "1  These sunglasses are all right. They were a li...      Cat  \n",
       "2  I don't see the difference between these bodys...      Cat  \n",
       "3  Very nice basic clothing. I think the size is ...      Cat  \n",
       "4  I love these socks. They fit great (my 15 mont...      Cat  "
      ]
     },
     "execution_count": 3,
     "metadata": {},
     "output_type": "execute_result"
    }
   ],
   "source": [
    "data.describe()\n",
    "data.head()"
   ]
  },
  {
   "cell_type": "code",
   "execution_count": 4,
   "metadata": {},
   "outputs": [],
   "source": [
    "stop_words = set(stopwords.words('english')) "
   ]
  },
  {
   "cell_type": "code",
   "execution_count": 5,
   "metadata": {},
   "outputs": [
    {
     "data": {
      "text/plain": [
       "array({'about', 'into', 'with', \"mightn't\", 'mustn', \"doesn't\", 'don', 'won', 'having', \"that'll\", 'be', 'any', 'only', 'ma', 'yours', 'how', \"shouldn't\", 'what', 'not', 'further', 'doing', 'weren', \"you'd\", \"weren't\", 'the', 'these', 'why', 'all', \"mustn't\", 'once', 'other', 'up', 'such', \"isn't\", \"she's\", 'those', 'will', 'himself', 'hasn', 'to', 'very', 'are', 'who', 'his', \"you've\", 'themselves', 'a', 'from', 'here', 's', 'ain', 'am', 'or', 'own', 'your', \"don't\", 'do', 'ours', 'now', 'against', 'doesn', 'each', 'shan', 'wouldn', 'above', 'her', 'shouldn', 'yourself', 'we', 'off', 'of', 'for', 'theirs', 'been', 'did', 'whom', 'out', 'and', 'haven', 'does', 'hers', 'by', 'being', 'had', \"hasn't\", 'she', 'below', 'if', 'after', 'then', 'as', 'needn', 'in', \"needn't\", 'more', 'y', 'couldn', 'isn', 'this', 'before', 'few', 'can', \"hadn't\", 'you', 'them', 'too', 't', 'our', 'i', \"you're\", \"it's\", 'again', 'during', 'should', \"haven't\", 'me', \"you'll\", 'at', 'd', \"wouldn't\", 'him', 'is', \"aren't\", 'nor', \"shan't\", 'where', 'both', 'on', 'll', 'some', 'there', 'an', 'between', 'most', \"won't\", 'he', 'they', 'no', 'have', 've', 'over', 'while', 'it', 'were', 'that', 'yourselves', 'hadn', 'because', \"didn't\", 're', 'myself', 'herself', 'their', 'under', 'until', 'just', \"should've\", \"wasn't\", 'wasn', 'its', 'than', 'mightn', 'm', 'my', 'didn', 'down', 'but', 'when', 'so', 'which', 'ourselves', \"couldn't\", 'aren', 'o', 'has', 'through', 'was', 'same', 'itself'},\n",
       "      dtype=object)"
      ]
     },
     "execution_count": 5,
     "metadata": {},
     "output_type": "execute_result"
    }
   ],
   "source": [
    "np.array(stop_words)"
   ]
  },
  {
   "cell_type": "code",
   "execution_count": 6,
   "metadata": {
    "scrolled": false
   },
   "outputs": [
    {
     "data": {
      "text/plain": [
       "0     GOOD LOOKING KICKS IF YOUR KICKIN IT OLD SCHOO...\n",
       "1     These sunglasses are all right. They were a li...\n",
       "2     I don't see the difference between these bodys...\n",
       "3     Very nice basic clothing. I think the size is ...\n",
       "4     I love these socks. They fit great (my 15 mont...\n",
       "5     Finally I have found a quality brand of swimsu...\n",
       "6     Your company was a pleasure to work with- than...\n",
       "7     very portable. great picture. easy to operate....\n",
       "8     I have been looking for a pair of Docs for a w...\n",
       "9     The quality is much better than expected. I bo...\n",
       "10    Nice shirt. Well made. Good price. What more c...\n",
       "11    The shirts are what I had asked for. They are ...\n",
       "12    I love wearing those tank tops with shelf bras...\n",
       "13    I was having a hard time finding a cheaper swi...\n",
       "14     With a good selection of colors to go with th...\n",
       "15    A difficult item to find in department stores....\n",
       "16    The quality is much better than expected. I bo...\n",
       "17    The collar stays are great! They came in a con...\n",
       "18    Okay, this cap is really stylish. But I think ...\n",
       "19    I bought some of these to wear with a drapey s...\n",
       "Name: text, dtype: object"
      ]
     },
     "execution_count": 6,
     "metadata": {},
     "output_type": "execute_result"
    }
   ],
   "source": [
    "text = pd.Series(data[\"text\"])\n",
    "text.head(20)"
   ]
  },
  {
   "cell_type": "code",
   "execution_count": 24,
   "metadata": {},
   "outputs": [],
   "source": [
    "def remove_pun(element):\n",
    "    import string\n",
    "    translator = str.maketrans('', '', string.punctuation)\n",
    "    return element.translate(translator)"
   ]
  },
  {
   "cell_type": "code",
   "execution_count": 25,
   "metadata": {},
   "outputs": [],
   "source": [
    "def remove_stopwords(element):\n",
    "    element = [word.lower() for word in element.split() if word.lower() not in stop_words]\n",
    "    return \" \".join(element)"
   ]
  },
  {
   "cell_type": "code",
   "execution_count": 26,
   "metadata": {},
   "outputs": [],
   "source": [
    "text = text.apply(remove_pun)\n",
    "text = text.apply(remove_stopwords)"
   ]
  },
  {
   "cell_type": "code",
   "execution_count": 27,
   "metadata": {
    "scrolled": true
   },
   "outputs": [
    {
     "data": {
      "text/plain": [
       "<bound method NDFrame.head of 0     good looking kicks kickin old school like comf...\n",
       "1            sunglasses right little crooked still cool\n",
       "2     see difference bodysuits expensive ones fits b...\n",
       "3     nice basic clothing think size fine really lik...\n",
       "4     love socks fit great 15 month old daughter thi...\n",
       "                            ...                        \n",
       "75    therese lux mary bonnie cecilia make five lisb...\n",
       "76    exact copy ang lees wonderful eat drink man wo...\n",
       "77    part ongoing quest catch comic book movies mis...\n",
       "78    ashley judds normal life locusts husband playe...\n",
       "79    someone wanted make indiana jones part 4 starr...\n",
       "Name: text, Length: 80, dtype: object>"
      ]
     },
     "execution_count": 27,
     "metadata": {},
     "output_type": "execute_result"
    }
   ],
   "source": [
    "text.size\n",
    "text.head"
   ]
  },
  {
   "cell_type": "code",
   "execution_count": 28,
   "metadata": {},
   "outputs": [],
   "source": [
    "#Postive 1 negative 0\n",
    "sent_processed = data[\"rating\"] >3\n",
    "bool_dict = {True:\"pos\", False:\"neg\"}\n",
    "sent_processed = sent_processed.map(bool_dict)"
   ]
  },
  {
   "cell_type": "code",
   "execution_count": 29,
   "metadata": {},
   "outputs": [],
   "source": [
    "#Prepare model data\n",
    "#Run model by group\n",
    "model_data = pd.DataFrame({\"MaxTrait\":data[\"MaxTrait\"], \"sentiment\":sent_processed, \"text\": text})"
   ]
  },
  {
   "cell_type": "code",
   "execution_count": 30,
   "metadata": {
    "scrolled": true
   },
   "outputs": [
    {
     "data": {
      "text/html": [
       "<div>\n",
       "<style scoped>\n",
       "    .dataframe tbody tr th:only-of-type {\n",
       "        vertical-align: middle;\n",
       "    }\n",
       "\n",
       "    .dataframe tbody tr th {\n",
       "        vertical-align: top;\n",
       "    }\n",
       "\n",
       "    .dataframe thead th {\n",
       "        text-align: right;\n",
       "    }\n",
       "</style>\n",
       "<table border=\"1\" class=\"dataframe\">\n",
       "  <thead>\n",
       "    <tr style=\"text-align: right;\">\n",
       "      <th></th>\n",
       "      <th>MaxTrait</th>\n",
       "      <th>sentiment</th>\n",
       "      <th>text</th>\n",
       "    </tr>\n",
       "  </thead>\n",
       "  <tbody>\n",
       "    <tr>\n",
       "      <th>0</th>\n",
       "      <td>Cat</td>\n",
       "      <td>pos</td>\n",
       "      <td>good looking kicks kickin old school like comf...</td>\n",
       "    </tr>\n",
       "    <tr>\n",
       "      <th>1</th>\n",
       "      <td>Cat</td>\n",
       "      <td>pos</td>\n",
       "      <td>sunglasses right little crooked still cool</td>\n",
       "    </tr>\n",
       "    <tr>\n",
       "      <th>2</th>\n",
       "      <td>Cat</td>\n",
       "      <td>pos</td>\n",
       "      <td>see difference bodysuits expensive ones fits b...</td>\n",
       "    </tr>\n",
       "    <tr>\n",
       "      <th>3</th>\n",
       "      <td>Cat</td>\n",
       "      <td>pos</td>\n",
       "      <td>nice basic clothing think size fine really lik...</td>\n",
       "    </tr>\n",
       "    <tr>\n",
       "      <th>4</th>\n",
       "      <td>Cat</td>\n",
       "      <td>pos</td>\n",
       "      <td>love socks fit great 15 month old daughter thi...</td>\n",
       "    </tr>\n",
       "  </tbody>\n",
       "</table>\n",
       "</div>"
      ],
      "text/plain": [
       "  MaxTrait sentiment                                               text\n",
       "0      Cat       pos  good looking kicks kickin old school like comf...\n",
       "1      Cat       pos         sunglasses right little crooked still cool\n",
       "2      Cat       pos  see difference bodysuits expensive ones fits b...\n",
       "3      Cat       pos  nice basic clothing think size fine really lik...\n",
       "4      Cat       pos  love socks fit great 15 month old daughter thi..."
      ]
     },
     "execution_count": 30,
     "metadata": {},
     "output_type": "execute_result"
    }
   ],
   "source": [
    "model_data.head()"
   ]
  },
  {
   "cell_type": "code",
   "execution_count": 31,
   "metadata": {},
   "outputs": [],
   "source": [
    "#Create POS tags\n",
    "def tokenized_tag(element):\n",
    "    tokenized = sent_tokenize(element)\n",
    "    for i in tokenized:\n",
    "        word_list = nltk.word_tokenize(i)\n",
    "        tagged = nltk.pos_tag(word_list)\n",
    "    return tagged"
   ]
  },
  {
   "cell_type": "code",
   "execution_count": 32,
   "metadata": {},
   "outputs": [],
   "source": [
    "#Extract pos sequence\n",
    "def extract_pos(element):\n",
    "    seq = [i[1] for i in element]\n",
    "    seq = tuple(seq)\n",
    "    return seq"
   ]
  },
  {
   "cell_type": "code",
   "execution_count": 33,
   "metadata": {
    "scrolled": true
   },
   "outputs": [],
   "source": [
    "#Process the data for POS-HMM\n",
    "model_data[\"text_pos\"] = model_data[\"text\"].apply(tokenized_tag)\n",
    "model_data[\"seq\"] = model_data[\"text_pos\"].apply(extract_pos)"
   ]
  },
  {
   "cell_type": "code",
   "execution_count": 34,
   "metadata": {
    "scrolled": true
   },
   "outputs": [
    {
     "data": {
      "text/html": [
       "<div>\n",
       "<style scoped>\n",
       "    .dataframe tbody tr th:only-of-type {\n",
       "        vertical-align: middle;\n",
       "    }\n",
       "\n",
       "    .dataframe tbody tr th {\n",
       "        vertical-align: top;\n",
       "    }\n",
       "\n",
       "    .dataframe thead th {\n",
       "        text-align: right;\n",
       "    }\n",
       "</style>\n",
       "<table border=\"1\" class=\"dataframe\">\n",
       "  <thead>\n",
       "    <tr style=\"text-align: right;\">\n",
       "      <th></th>\n",
       "      <th>MaxTrait</th>\n",
       "      <th>sentiment</th>\n",
       "      <th>text</th>\n",
       "      <th>text_pos</th>\n",
       "      <th>seq</th>\n",
       "    </tr>\n",
       "  </thead>\n",
       "  <tbody>\n",
       "    <tr>\n",
       "      <th>0</th>\n",
       "      <td>Cat</td>\n",
       "      <td>pos</td>\n",
       "      <td>good looking kicks kickin old school like comf...</td>\n",
       "      <td>[(good, JJ), (looking, VBG), (kicks, NNS), (ki...</td>\n",
       "      <td>(JJ, VBG, NNS, VBP, JJ, NN, IN, JJ, RB, JJ, NN...</td>\n",
       "    </tr>\n",
       "    <tr>\n",
       "      <th>1</th>\n",
       "      <td>Cat</td>\n",
       "      <td>pos</td>\n",
       "      <td>sunglasses right little crooked still cool</td>\n",
       "      <td>[(sunglasses, NNS), (right, RB), (little, JJ),...</td>\n",
       "      <td>(NNS, RB, JJ, VBD, RB, JJ)</td>\n",
       "    </tr>\n",
       "    <tr>\n",
       "      <th>2</th>\n",
       "      <td>Cat</td>\n",
       "      <td>pos</td>\n",
       "      <td>see difference bodysuits expensive ones fits b...</td>\n",
       "      <td>[(see, VB), (difference, NN), (bodysuits, NNS)...</td>\n",
       "      <td>(VB, NN, NNS, JJ, NNS, NNS, RB, RB)</td>\n",
       "    </tr>\n",
       "    <tr>\n",
       "      <th>3</th>\n",
       "      <td>Cat</td>\n",
       "      <td>pos</td>\n",
       "      <td>nice basic clothing think size fine really lik...</td>\n",
       "      <td>[(nice, JJ), (basic, JJ), (clothing, NN), (thi...</td>\n",
       "      <td>(JJ, JJ, NN, VBP, NN, VBP, RB, IN, JJ, VBP, JJ...</td>\n",
       "    </tr>\n",
       "    <tr>\n",
       "      <th>4</th>\n",
       "      <td>Cat</td>\n",
       "      <td>pos</td>\n",
       "      <td>love socks fit great 15 month old daughter thi...</td>\n",
       "      <td>[(love, NN), (socks, NNS), (fit, VBP), (great,...</td>\n",
       "      <td>(NN, NNS, VBP, JJ, CD, NN, JJ, NN, NN, NNS, VB...</td>\n",
       "    </tr>\n",
       "  </tbody>\n",
       "</table>\n",
       "</div>"
      ],
      "text/plain": [
       "  MaxTrait sentiment                                               text  \\\n",
       "0      Cat       pos  good looking kicks kickin old school like comf...   \n",
       "1      Cat       pos         sunglasses right little crooked still cool   \n",
       "2      Cat       pos  see difference bodysuits expensive ones fits b...   \n",
       "3      Cat       pos  nice basic clothing think size fine really lik...   \n",
       "4      Cat       pos  love socks fit great 15 month old daughter thi...   \n",
       "\n",
       "                                            text_pos  \\\n",
       "0  [(good, JJ), (looking, VBG), (kicks, NNS), (ki...   \n",
       "1  [(sunglasses, NNS), (right, RB), (little, JJ),...   \n",
       "2  [(see, VB), (difference, NN), (bodysuits, NNS)...   \n",
       "3  [(nice, JJ), (basic, JJ), (clothing, NN), (thi...   \n",
       "4  [(love, NN), (socks, NNS), (fit, VBP), (great,...   \n",
       "\n",
       "                                                 seq  \n",
       "0  (JJ, VBG, NNS, VBP, JJ, NN, IN, JJ, RB, JJ, NN...  \n",
       "1                         (NNS, RB, JJ, VBD, RB, JJ)  \n",
       "2                (VB, NN, NNS, JJ, NNS, NNS, RB, RB)  \n",
       "3  (JJ, JJ, NN, VBP, NN, VBP, RB, IN, JJ, VBP, JJ...  \n",
       "4  (NN, NNS, VBP, JJ, CD, NN, JJ, NN, NN, NNS, VB...  "
      ]
     },
     "execution_count": 34,
     "metadata": {},
     "output_type": "execute_result"
    }
   ],
   "source": [
    "model_data.head()"
   ]
  },
  {
   "cell_type": "code",
   "execution_count": 84,
   "metadata": {},
   "outputs": [],
   "source": [
    "#States\n",
    "states = (\"pos\", \"neg\")\n",
    "#Possible observations\n",
    "possible_observations = np.unique(possible_observations).tolist()\n",
    "#Number of observation sequence\n",
    "quantities_observations = [1] *model_data.shape[0]\n",
    "observation_tuple = []\n",
    "observation_tuple.extend([element for element in model_data[\"seq\"]])\n",
    "\n",
    "# Input initual parameters as Numpy matrices\n",
    "start_probability = np.matrix('0.5 0.5')\n",
    "#Aritifitial transistion probabilities\n",
    "#Need work\n",
    "transition_probability = np.matrix('0.6 0.4;  0.3 0.7')\n",
    "#Aritifitial emission probabilities\n",
    "#Need work\n",
    "emission_probability = np.matrix('0 0.04 0.02 0.02 0.02 0.02 0.02 0.02 0.02 0.02 0.02 0.02 0.02 0.02 0.02 0.02 0.02 0.02 0.02 0.02 0.02 0.58; 0.03 0.03 0.03 0.03 0.03 0.03 0.03 0.03 0.03 0.03 0.03 0.03 0.03 0.06 0 0.03 0.03 0.03 0.03 0.03 0.03 0.34')"
   ]
  }
 ],
 "metadata": {
  "kernelspec": {
   "display_name": "Python [conda env:emo] *",
   "language": "python",
   "name": "conda-env-emo-py"
  },
  "language_info": {
   "codemirror_mode": {
    "name": "ipython",
    "version": 3
   },
   "file_extension": ".py",
   "mimetype": "text/x-python",
   "name": "python",
   "nbconvert_exporter": "python",
   "pygments_lexer": "ipython3",
   "version": "3.7.5"
  }
 },
 "nbformat": 4,
 "nbformat_minor": 2
}
